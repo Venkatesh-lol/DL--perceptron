{
  "nbformat": 4,
  "nbformat_minor": 0,
  "metadata": {
    "colab": {
      "name": "DL- Perceptron.ipynb",
      "provenance": [],
      "collapsed_sections": [],
      "include_colab_link": true
    },
    "kernelspec": {
      "name": "python3",
      "display_name": "Python 3"
    },
    "language_info": {
      "name": "python"
    }
  },
  "cells": [
    {
      "cell_type": "markdown",
      "metadata": {
        "id": "view-in-github",
        "colab_type": "text"
      },
      "source": [
        "<a href=\"https://colab.research.google.com/github/Venkatesh-lol/DL--perceptron/blob/main/DL_Perceptron.ipynb\" target=\"_parent\"><img src=\"https://colab.research.google.com/assets/colab-badge.svg\" alt=\"Open In Colab\"/></a>"
      ]
    },
    {
      "cell_type": "code",
      "metadata": {
        "id": "xwNhk8ll8Inm"
      },
      "source": [
        "import numpy as np\n",
        "import matplotlib.pyplot as plt\n",
        "import joblib\n",
        "import pandas as pd\n",
        "\n",
        "plt.style.use(\"fivethirtyeight\")"
      ],
      "execution_count": 1,
      "outputs": []
    },
    {
      "cell_type": "code",
      "metadata": {
        "id": "3YDlCB5n8ge4"
      },
      "source": [
        "class Perceptron:\n",
        "  def __init__(self, eta, epochs, activationFunction):\n",
        "    self.weights = np.random.randn(3) * 1e-4\n",
        "    print(f\"self.weights: {self.weights}\")\n",
        "    self.eta = eta\n",
        "    self.epochs = epochs\n",
        "    self.activationFunction = activationFunction\n",
        "\n",
        "  def fit(self, X, y):\n",
        "    self.X = X\n",
        "    self.y = y\n",
        "\n",
        "    X_with_bias = np.c_[self.X, -np.ones((len(self.X), 1))] # concactination\n",
        "    print(f\"X_with_bias: \\n{X_with_bias}\")\n",
        "\n",
        "    for epoch in range(self.epochs):\n",
        "      print(f\"for epoch: {epoch}\")\n",
        "      y_hat = self.activationFunction(X_with_bias, self.weights)\n",
        "      print(f\"predicted value: \\n{y_hat}\")\n",
        "      error = self.y - y_hat\n",
        "      print(f\"error: \\n{error}\")\n",
        "      self.weights = self.weights + self.eta * np.dot(X_with_bias.T, error)\n",
        "      print(f\"updated weights: \\n{self.weights}\")\n",
        "      print(\"#############\\n\")\n",
        "\n",
        "  def predict(self, X):\n",
        "    X_with_bias = np.c_[X, -np.ones((len(self.X), 1))]\n",
        "    return self.activationFunction(X_with_bias, self.weights)\n"
      ],
      "execution_count": 3,
      "outputs": []
    },
    {
      "cell_type": "code",
      "metadata": {
        "id": "7eZsLQgC8-vJ"
      },
      "source": [
        "activationFunction = lambda inputs, weights: np.where(np.dot(inputs, weights) > 0 , 1, 0)"
      ],
      "execution_count": 4,
      "outputs": []
    },
    {
      "cell_type": "markdown",
      "metadata": {
        "id": "JPxUf0SgBX7t"
      },
      "source": [
        "```python\n",
        "def activationFunction(inputs, weights):\n",
        "  z = np.dot(inputs, weights)\n",
        "  y_hat = np.where(z > 0, 1, 0)\n",
        "  return y_hat\n",
        "\n",
        "def activationFunction(inputs, weights):\n",
        "  z = np.dot(inputs, weights)\n",
        "  if z > 0:\n",
        "    y_hat = 1\n",
        "  else:\n",
        "    y_hat = 0\n",
        "  return y_hat\n",
        "\n",
        "\n",
        "```"
      ]
    },
    {
      "cell_type": "markdown",
      "metadata": {
        "id": "SS4yGWjLDe6o"
      },
      "source": [
        "# AND"
      ]
    },
    {
      "cell_type": "code",
      "metadata": {
        "colab": {
          "base_uri": "https://localhost:8080/",
          "height": 172
        },
        "id": "_K8KXEXuA-sY",
        "outputId": "0c45c17a-fbf6-4388-d0da-ce4262088e81"
      },
      "source": [
        "data = {\"x1\": [0,0,1,1], \"x2\": [0,1,0,1], \"y\": [0,0,0,1]}\n",
        "\n",
        "AND = pd.DataFrame(data)\n",
        "AND"
      ],
      "execution_count": 5,
      "outputs": [
        {
          "output_type": "execute_result",
          "data": {
            "text/html": [
              "<div>\n",
              "<style scoped>\n",
              "    .dataframe tbody tr th:only-of-type {\n",
              "        vertical-align: middle;\n",
              "    }\n",
              "\n",
              "    .dataframe tbody tr th {\n",
              "        vertical-align: top;\n",
              "    }\n",
              "\n",
              "    .dataframe thead th {\n",
              "        text-align: right;\n",
              "    }\n",
              "</style>\n",
              "<table border=\"1\" class=\"dataframe\">\n",
              "  <thead>\n",
              "    <tr style=\"text-align: right;\">\n",
              "      <th></th>\n",
              "      <th>x1</th>\n",
              "      <th>x2</th>\n",
              "      <th>y</th>\n",
              "    </tr>\n",
              "  </thead>\n",
              "  <tbody>\n",
              "    <tr>\n",
              "      <th>0</th>\n",
              "      <td>0</td>\n",
              "      <td>0</td>\n",
              "      <td>0</td>\n",
              "    </tr>\n",
              "    <tr>\n",
              "      <th>1</th>\n",
              "      <td>0</td>\n",
              "      <td>1</td>\n",
              "      <td>0</td>\n",
              "    </tr>\n",
              "    <tr>\n",
              "      <th>2</th>\n",
              "      <td>1</td>\n",
              "      <td>0</td>\n",
              "      <td>0</td>\n",
              "    </tr>\n",
              "    <tr>\n",
              "      <th>3</th>\n",
              "      <td>1</td>\n",
              "      <td>1</td>\n",
              "      <td>1</td>\n",
              "    </tr>\n",
              "  </tbody>\n",
              "</table>\n",
              "</div>"
            ],
            "text/plain": [
              "   x1  x2  y\n",
              "0   0   0  0\n",
              "1   0   1  0\n",
              "2   1   0  0\n",
              "3   1   1  1"
            ]
          },
          "metadata": {
            "tags": []
          },
          "execution_count": 5
        }
      ]
    },
    {
      "cell_type": "code",
      "metadata": {
        "colab": {
          "base_uri": "https://localhost:8080/",
          "height": 172
        },
        "id": "Qb7iyVqHBSs_",
        "outputId": "9ed69b8c-bb5b-4468-f3b9-47314e01dab8"
      },
      "source": [
        "X = AND.drop(\"y\", axis=1) # axis = 1 >>> dropping accross column\n",
        "X"
      ],
      "execution_count": 6,
      "outputs": [
        {
          "output_type": "execute_result",
          "data": {
            "text/html": [
              "<div>\n",
              "<style scoped>\n",
              "    .dataframe tbody tr th:only-of-type {\n",
              "        vertical-align: middle;\n",
              "    }\n",
              "\n",
              "    .dataframe tbody tr th {\n",
              "        vertical-align: top;\n",
              "    }\n",
              "\n",
              "    .dataframe thead th {\n",
              "        text-align: right;\n",
              "    }\n",
              "</style>\n",
              "<table border=\"1\" class=\"dataframe\">\n",
              "  <thead>\n",
              "    <tr style=\"text-align: right;\">\n",
              "      <th></th>\n",
              "      <th>x1</th>\n",
              "      <th>x2</th>\n",
              "    </tr>\n",
              "  </thead>\n",
              "  <tbody>\n",
              "    <tr>\n",
              "      <th>0</th>\n",
              "      <td>0</td>\n",
              "      <td>0</td>\n",
              "    </tr>\n",
              "    <tr>\n",
              "      <th>1</th>\n",
              "      <td>0</td>\n",
              "      <td>1</td>\n",
              "    </tr>\n",
              "    <tr>\n",
              "      <th>2</th>\n",
              "      <td>1</td>\n",
              "      <td>0</td>\n",
              "    </tr>\n",
              "    <tr>\n",
              "      <th>3</th>\n",
              "      <td>1</td>\n",
              "      <td>1</td>\n",
              "    </tr>\n",
              "  </tbody>\n",
              "</table>\n",
              "</div>"
            ],
            "text/plain": [
              "   x1  x2\n",
              "0   0   0\n",
              "1   0   1\n",
              "2   1   0\n",
              "3   1   1"
            ]
          },
          "metadata": {
            "tags": []
          },
          "execution_count": 6
        }
      ]
    },
    {
      "cell_type": "code",
      "metadata": {
        "colab": {
          "base_uri": "https://localhost:8080/",
          "height": 172
        },
        "id": "72owhrvKD-we",
        "outputId": "1e40923a-8c9e-4a0f-845d-ce5c563643e0"
      },
      "source": [
        "y = AND['y']\n",
        "y.to_frame()"
      ],
      "execution_count": 7,
      "outputs": [
        {
          "output_type": "execute_result",
          "data": {
            "text/html": [
              "<div>\n",
              "<style scoped>\n",
              "    .dataframe tbody tr th:only-of-type {\n",
              "        vertical-align: middle;\n",
              "    }\n",
              "\n",
              "    .dataframe tbody tr th {\n",
              "        vertical-align: top;\n",
              "    }\n",
              "\n",
              "    .dataframe thead th {\n",
              "        text-align: right;\n",
              "    }\n",
              "</style>\n",
              "<table border=\"1\" class=\"dataframe\">\n",
              "  <thead>\n",
              "    <tr style=\"text-align: right;\">\n",
              "      <th></th>\n",
              "      <th>y</th>\n",
              "    </tr>\n",
              "  </thead>\n",
              "  <tbody>\n",
              "    <tr>\n",
              "      <th>0</th>\n",
              "      <td>0</td>\n",
              "    </tr>\n",
              "    <tr>\n",
              "      <th>1</th>\n",
              "      <td>0</td>\n",
              "    </tr>\n",
              "    <tr>\n",
              "      <th>2</th>\n",
              "      <td>0</td>\n",
              "    </tr>\n",
              "    <tr>\n",
              "      <th>3</th>\n",
              "      <td>1</td>\n",
              "    </tr>\n",
              "  </tbody>\n",
              "</table>\n",
              "</div>"
            ],
            "text/plain": [
              "   y\n",
              "0  0\n",
              "1  0\n",
              "2  0\n",
              "3  1"
            ]
          },
          "metadata": {
            "tags": []
          },
          "execution_count": 7
        }
      ]
    },
    {
      "cell_type": "code",
      "metadata": {
        "colab": {
          "base_uri": "https://localhost:8080/"
        },
        "id": "uPdePT03EFw0",
        "outputId": "a181bf5e-9d36-4263-d3c9-d14a75eb75db"
      },
      "source": [
        "model = Perceptron(eta = 0.5, epochs=10, activationFunction=activationFunction)"
      ],
      "execution_count": 8,
      "outputs": [
        {
          "output_type": "stream",
          "text": [
            "self.weights: [ 1.53881793e-04 -3.73418232e-05  1.11594024e-04]\n"
          ],
          "name": "stdout"
        }
      ]
    },
    {
      "cell_type": "code",
      "metadata": {
        "colab": {
          "base_uri": "https://localhost:8080/"
        },
        "id": "cn2K5oRCEtt9",
        "outputId": "c278efbf-09a3-453b-98f3-57cde3f17a27"
      },
      "source": [
        "model.fit(X,y)"
      ],
      "execution_count": 9,
      "outputs": [
        {
          "output_type": "stream",
          "text": [
            "X_with_bias: \n",
            "[[ 0.  0. -1.]\n",
            " [ 0.  1. -1.]\n",
            " [ 1.  0. -1.]\n",
            " [ 1.  1. -1.]]\n",
            "for epoch: 0\n",
            "predicted value: \n",
            "[0 0 1 1]\n",
            "error: \n",
            "0    0\n",
            "1    0\n",
            "2   -1\n",
            "3    0\n",
            "Name: y, dtype: int64\n",
            "updated weights: \n",
            "[-4.99846118e-01 -3.73418232e-05  5.00111594e-01]\n",
            "#############\n",
            "\n",
            "for epoch: 1\n",
            "predicted value: \n",
            "[0 0 0 0]\n",
            "error: \n",
            "0    0\n",
            "1    0\n",
            "2    0\n",
            "3    1\n",
            "Name: y, dtype: int64\n",
            "updated weights: \n",
            "[1.53881793e-04 4.99962658e-01 1.11594024e-04]\n",
            "#############\n",
            "\n",
            "for epoch: 2\n",
            "predicted value: \n",
            "[0 1 1 1]\n",
            "error: \n",
            "0    0\n",
            "1   -1\n",
            "2   -1\n",
            "3    0\n",
            "Name: y, dtype: int64\n",
            "updated weights: \n",
            "[-4.99846118e-01 -3.73418232e-05  1.00011159e+00]\n",
            "#############\n",
            "\n",
            "for epoch: 3\n",
            "predicted value: \n",
            "[0 0 0 0]\n",
            "error: \n",
            "0    0\n",
            "1    0\n",
            "2    0\n",
            "3    1\n",
            "Name: y, dtype: int64\n",
            "updated weights: \n",
            "[1.53881793e-04 4.99962658e-01 5.00111594e-01]\n",
            "#############\n",
            "\n",
            "for epoch: 4\n",
            "predicted value: \n",
            "[0 0 0 1]\n",
            "error: \n",
            "0    0\n",
            "1    0\n",
            "2    0\n",
            "3    0\n",
            "Name: y, dtype: int64\n",
            "updated weights: \n",
            "[1.53881793e-04 4.99962658e-01 5.00111594e-01]\n",
            "#############\n",
            "\n",
            "for epoch: 5\n",
            "predicted value: \n",
            "[0 0 0 1]\n",
            "error: \n",
            "0    0\n",
            "1    0\n",
            "2    0\n",
            "3    0\n",
            "Name: y, dtype: int64\n",
            "updated weights: \n",
            "[1.53881793e-04 4.99962658e-01 5.00111594e-01]\n",
            "#############\n",
            "\n",
            "for epoch: 6\n",
            "predicted value: \n",
            "[0 0 0 1]\n",
            "error: \n",
            "0    0\n",
            "1    0\n",
            "2    0\n",
            "3    0\n",
            "Name: y, dtype: int64\n",
            "updated weights: \n",
            "[1.53881793e-04 4.99962658e-01 5.00111594e-01]\n",
            "#############\n",
            "\n",
            "for epoch: 7\n",
            "predicted value: \n",
            "[0 0 0 1]\n",
            "error: \n",
            "0    0\n",
            "1    0\n",
            "2    0\n",
            "3    0\n",
            "Name: y, dtype: int64\n",
            "updated weights: \n",
            "[1.53881793e-04 4.99962658e-01 5.00111594e-01]\n",
            "#############\n",
            "\n",
            "for epoch: 8\n",
            "predicted value: \n",
            "[0 0 0 1]\n",
            "error: \n",
            "0    0\n",
            "1    0\n",
            "2    0\n",
            "3    0\n",
            "Name: y, dtype: int64\n",
            "updated weights: \n",
            "[1.53881793e-04 4.99962658e-01 5.00111594e-01]\n",
            "#############\n",
            "\n",
            "for epoch: 9\n",
            "predicted value: \n",
            "[0 0 0 1]\n",
            "error: \n",
            "0    0\n",
            "1    0\n",
            "2    0\n",
            "3    0\n",
            "Name: y, dtype: int64\n",
            "updated weights: \n",
            "[1.53881793e-04 4.99962658e-01 5.00111594e-01]\n",
            "#############\n",
            "\n"
          ],
          "name": "stdout"
        }
      ]
    },
    {
      "cell_type": "code",
      "metadata": {
        "colab": {
          "base_uri": "https://localhost:8080/"
        },
        "id": "LaxqFyX9Ew9D",
        "outputId": "4e31f83b-e182-44e8-a630-d002cda2512c"
      },
      "source": [
        "model.predict(X)"
      ],
      "execution_count": 10,
      "outputs": [
        {
          "output_type": "execute_result",
          "data": {
            "text/plain": [
              "array([0, 0, 0, 1])"
            ]
          },
          "metadata": {
            "tags": []
          },
          "execution_count": 10
        }
      ]
    },
    {
      "cell_type": "markdown",
      "metadata": {
        "id": "N7duH5_mMv7S"
      },
      "source": [
        "# OR"
      ]
    },
    {
      "cell_type": "code",
      "metadata": {
        "colab": {
          "base_uri": "https://localhost:8080/",
          "height": 172
        },
        "id": "gBJe6nXWEzxT",
        "outputId": "3c574ce2-37d7-4e17-b17d-e09ad0c05ce6"
      },
      "source": [
        "data = {\"x1\": [0,0,1,1], \"x2\": [0,1,0,1], \"y\": [0,1,1,1]}\n",
        "\n",
        "OR = pd.DataFrame(data)\n",
        "OR"
      ],
      "execution_count": 11,
      "outputs": [
        {
          "output_type": "execute_result",
          "data": {
            "text/html": [
              "<div>\n",
              "<style scoped>\n",
              "    .dataframe tbody tr th:only-of-type {\n",
              "        vertical-align: middle;\n",
              "    }\n",
              "\n",
              "    .dataframe tbody tr th {\n",
              "        vertical-align: top;\n",
              "    }\n",
              "\n",
              "    .dataframe thead th {\n",
              "        text-align: right;\n",
              "    }\n",
              "</style>\n",
              "<table border=\"1\" class=\"dataframe\">\n",
              "  <thead>\n",
              "    <tr style=\"text-align: right;\">\n",
              "      <th></th>\n",
              "      <th>x1</th>\n",
              "      <th>x2</th>\n",
              "      <th>y</th>\n",
              "    </tr>\n",
              "  </thead>\n",
              "  <tbody>\n",
              "    <tr>\n",
              "      <th>0</th>\n",
              "      <td>0</td>\n",
              "      <td>0</td>\n",
              "      <td>0</td>\n",
              "    </tr>\n",
              "    <tr>\n",
              "      <th>1</th>\n",
              "      <td>0</td>\n",
              "      <td>1</td>\n",
              "      <td>1</td>\n",
              "    </tr>\n",
              "    <tr>\n",
              "      <th>2</th>\n",
              "      <td>1</td>\n",
              "      <td>0</td>\n",
              "      <td>1</td>\n",
              "    </tr>\n",
              "    <tr>\n",
              "      <th>3</th>\n",
              "      <td>1</td>\n",
              "      <td>1</td>\n",
              "      <td>1</td>\n",
              "    </tr>\n",
              "  </tbody>\n",
              "</table>\n",
              "</div>"
            ],
            "text/plain": [
              "   x1  x2  y\n",
              "0   0   0  0\n",
              "1   0   1  1\n",
              "2   1   0  1\n",
              "3   1   1  1"
            ]
          },
          "metadata": {
            "tags": []
          },
          "execution_count": 11
        }
      ]
    },
    {
      "cell_type": "code",
      "metadata": {
        "colab": {
          "base_uri": "https://localhost:8080/",
          "height": 172
        },
        "id": "T-jXE3T5M4H9",
        "outputId": "272a7b4a-0598-4092-bc9f-1637680ae4fa"
      },
      "source": [
        "X = OR.drop(\"y\", axis=1) # axis = 1 >>> dropping accross column\n",
        "X"
      ],
      "execution_count": 12,
      "outputs": [
        {
          "output_type": "execute_result",
          "data": {
            "text/html": [
              "<div>\n",
              "<style scoped>\n",
              "    .dataframe tbody tr th:only-of-type {\n",
              "        vertical-align: middle;\n",
              "    }\n",
              "\n",
              "    .dataframe tbody tr th {\n",
              "        vertical-align: top;\n",
              "    }\n",
              "\n",
              "    .dataframe thead th {\n",
              "        text-align: right;\n",
              "    }\n",
              "</style>\n",
              "<table border=\"1\" class=\"dataframe\">\n",
              "  <thead>\n",
              "    <tr style=\"text-align: right;\">\n",
              "      <th></th>\n",
              "      <th>x1</th>\n",
              "      <th>x2</th>\n",
              "    </tr>\n",
              "  </thead>\n",
              "  <tbody>\n",
              "    <tr>\n",
              "      <th>0</th>\n",
              "      <td>0</td>\n",
              "      <td>0</td>\n",
              "    </tr>\n",
              "    <tr>\n",
              "      <th>1</th>\n",
              "      <td>0</td>\n",
              "      <td>1</td>\n",
              "    </tr>\n",
              "    <tr>\n",
              "      <th>2</th>\n",
              "      <td>1</td>\n",
              "      <td>0</td>\n",
              "    </tr>\n",
              "    <tr>\n",
              "      <th>3</th>\n",
              "      <td>1</td>\n",
              "      <td>1</td>\n",
              "    </tr>\n",
              "  </tbody>\n",
              "</table>\n",
              "</div>"
            ],
            "text/plain": [
              "   x1  x2\n",
              "0   0   0\n",
              "1   0   1\n",
              "2   1   0\n",
              "3   1   1"
            ]
          },
          "metadata": {
            "tags": []
          },
          "execution_count": 12
        }
      ]
    },
    {
      "cell_type": "code",
      "metadata": {
        "colab": {
          "base_uri": "https://localhost:8080/",
          "height": 172
        },
        "id": "1-CGCtaGNAAG",
        "outputId": "5ec07efb-e6cd-48a6-c685-2b5780a27c6b"
      },
      "source": [
        "y = OR['y']\n",
        "y.to_frame()"
      ],
      "execution_count": 13,
      "outputs": [
        {
          "output_type": "execute_result",
          "data": {
            "text/html": [
              "<div>\n",
              "<style scoped>\n",
              "    .dataframe tbody tr th:only-of-type {\n",
              "        vertical-align: middle;\n",
              "    }\n",
              "\n",
              "    .dataframe tbody tr th {\n",
              "        vertical-align: top;\n",
              "    }\n",
              "\n",
              "    .dataframe thead th {\n",
              "        text-align: right;\n",
              "    }\n",
              "</style>\n",
              "<table border=\"1\" class=\"dataframe\">\n",
              "  <thead>\n",
              "    <tr style=\"text-align: right;\">\n",
              "      <th></th>\n",
              "      <th>y</th>\n",
              "    </tr>\n",
              "  </thead>\n",
              "  <tbody>\n",
              "    <tr>\n",
              "      <th>0</th>\n",
              "      <td>0</td>\n",
              "    </tr>\n",
              "    <tr>\n",
              "      <th>1</th>\n",
              "      <td>1</td>\n",
              "    </tr>\n",
              "    <tr>\n",
              "      <th>2</th>\n",
              "      <td>1</td>\n",
              "    </tr>\n",
              "    <tr>\n",
              "      <th>3</th>\n",
              "      <td>1</td>\n",
              "    </tr>\n",
              "  </tbody>\n",
              "</table>\n",
              "</div>"
            ],
            "text/plain": [
              "   y\n",
              "0  0\n",
              "1  1\n",
              "2  1\n",
              "3  1"
            ]
          },
          "metadata": {
            "tags": []
          },
          "execution_count": 13
        }
      ]
    },
    {
      "cell_type": "code",
      "metadata": {
        "colab": {
          "base_uri": "https://localhost:8080/"
        },
        "id": "FLTB8fUKNBgs",
        "outputId": "eac3da71-5f55-48b5-be60-9fc298a157df"
      },
      "source": [
        "model = Perceptron(eta = 0.5, epochs=10, activationFunction=activationFunction)"
      ],
      "execution_count": 14,
      "outputs": [
        {
          "output_type": "stream",
          "text": [
            "self.weights: [ 1.47095043e-04 -1.49469654e-05 -1.69466724e-04]\n"
          ],
          "name": "stdout"
        }
      ]
    },
    {
      "cell_type": "code",
      "metadata": {
        "colab": {
          "base_uri": "https://localhost:8080/"
        },
        "id": "32zQIbXzNKBj",
        "outputId": "dafc50ac-48b3-4a5a-b2f7-a447db721492"
      },
      "source": [
        "model.fit(X,y)"
      ],
      "execution_count": 16,
      "outputs": [
        {
          "output_type": "stream",
          "text": [
            "X_with_bias: \n",
            "[[ 0.  0. -1.]\n",
            " [ 0.  1. -1.]\n",
            " [ 1.  0. -1.]\n",
            " [ 1.  1. -1.]]\n",
            "for epoch: 0\n",
            "predicted value: \n",
            "[0 1 1 1]\n",
            "error: \n",
            "0    0\n",
            "1    0\n",
            "2    0\n",
            "3    0\n",
            "Name: y, dtype: int64\n",
            "updated weights: \n",
            "[1.0001471  0.99998505 0.49983053]\n",
            "#############\n",
            "\n",
            "for epoch: 1\n",
            "predicted value: \n",
            "[0 1 1 1]\n",
            "error: \n",
            "0    0\n",
            "1    0\n",
            "2    0\n",
            "3    0\n",
            "Name: y, dtype: int64\n",
            "updated weights: \n",
            "[1.0001471  0.99998505 0.49983053]\n",
            "#############\n",
            "\n",
            "for epoch: 2\n",
            "predicted value: \n",
            "[0 1 1 1]\n",
            "error: \n",
            "0    0\n",
            "1    0\n",
            "2    0\n",
            "3    0\n",
            "Name: y, dtype: int64\n",
            "updated weights: \n",
            "[1.0001471  0.99998505 0.49983053]\n",
            "#############\n",
            "\n",
            "for epoch: 3\n",
            "predicted value: \n",
            "[0 1 1 1]\n",
            "error: \n",
            "0    0\n",
            "1    0\n",
            "2    0\n",
            "3    0\n",
            "Name: y, dtype: int64\n",
            "updated weights: \n",
            "[1.0001471  0.99998505 0.49983053]\n",
            "#############\n",
            "\n",
            "for epoch: 4\n",
            "predicted value: \n",
            "[0 1 1 1]\n",
            "error: \n",
            "0    0\n",
            "1    0\n",
            "2    0\n",
            "3    0\n",
            "Name: y, dtype: int64\n",
            "updated weights: \n",
            "[1.0001471  0.99998505 0.49983053]\n",
            "#############\n",
            "\n",
            "for epoch: 5\n",
            "predicted value: \n",
            "[0 1 1 1]\n",
            "error: \n",
            "0    0\n",
            "1    0\n",
            "2    0\n",
            "3    0\n",
            "Name: y, dtype: int64\n",
            "updated weights: \n",
            "[1.0001471  0.99998505 0.49983053]\n",
            "#############\n",
            "\n",
            "for epoch: 6\n",
            "predicted value: \n",
            "[0 1 1 1]\n",
            "error: \n",
            "0    0\n",
            "1    0\n",
            "2    0\n",
            "3    0\n",
            "Name: y, dtype: int64\n",
            "updated weights: \n",
            "[1.0001471  0.99998505 0.49983053]\n",
            "#############\n",
            "\n",
            "for epoch: 7\n",
            "predicted value: \n",
            "[0 1 1 1]\n",
            "error: \n",
            "0    0\n",
            "1    0\n",
            "2    0\n",
            "3    0\n",
            "Name: y, dtype: int64\n",
            "updated weights: \n",
            "[1.0001471  0.99998505 0.49983053]\n",
            "#############\n",
            "\n",
            "for epoch: 8\n",
            "predicted value: \n",
            "[0 1 1 1]\n",
            "error: \n",
            "0    0\n",
            "1    0\n",
            "2    0\n",
            "3    0\n",
            "Name: y, dtype: int64\n",
            "updated weights: \n",
            "[1.0001471  0.99998505 0.49983053]\n",
            "#############\n",
            "\n",
            "for epoch: 9\n",
            "predicted value: \n",
            "[0 1 1 1]\n",
            "error: \n",
            "0    0\n",
            "1    0\n",
            "2    0\n",
            "3    0\n",
            "Name: y, dtype: int64\n",
            "updated weights: \n",
            "[1.0001471  0.99998505 0.49983053]\n",
            "#############\n",
            "\n"
          ],
          "name": "stdout"
        }
      ]
    },
    {
      "cell_type": "markdown",
      "metadata": {
        "id": "DNWYTcmpNeiq"
      },
      "source": [
        "# XOR"
      ]
    },
    {
      "cell_type": "code",
      "metadata": {
        "colab": {
          "base_uri": "https://localhost:8080/",
          "height": 172
        },
        "id": "bBcjSTOHNMh8",
        "outputId": "1bf3d848-dfbf-47e9-f715-a3a7112e8580"
      },
      "source": [
        "data = {\"x1\": [0,0,1,1], \"x2\": [0,1,0,1], \"y\": [0,1,1,0]}\n",
        "\n",
        "XOR = pd.DataFrame(data)\n",
        "XOR"
      ],
      "execution_count": 17,
      "outputs": [
        {
          "output_type": "execute_result",
          "data": {
            "text/html": [
              "<div>\n",
              "<style scoped>\n",
              "    .dataframe tbody tr th:only-of-type {\n",
              "        vertical-align: middle;\n",
              "    }\n",
              "\n",
              "    .dataframe tbody tr th {\n",
              "        vertical-align: top;\n",
              "    }\n",
              "\n",
              "    .dataframe thead th {\n",
              "        text-align: right;\n",
              "    }\n",
              "</style>\n",
              "<table border=\"1\" class=\"dataframe\">\n",
              "  <thead>\n",
              "    <tr style=\"text-align: right;\">\n",
              "      <th></th>\n",
              "      <th>x1</th>\n",
              "      <th>x2</th>\n",
              "      <th>y</th>\n",
              "    </tr>\n",
              "  </thead>\n",
              "  <tbody>\n",
              "    <tr>\n",
              "      <th>0</th>\n",
              "      <td>0</td>\n",
              "      <td>0</td>\n",
              "      <td>0</td>\n",
              "    </tr>\n",
              "    <tr>\n",
              "      <th>1</th>\n",
              "      <td>0</td>\n",
              "      <td>1</td>\n",
              "      <td>1</td>\n",
              "    </tr>\n",
              "    <tr>\n",
              "      <th>2</th>\n",
              "      <td>1</td>\n",
              "      <td>0</td>\n",
              "      <td>1</td>\n",
              "    </tr>\n",
              "    <tr>\n",
              "      <th>3</th>\n",
              "      <td>1</td>\n",
              "      <td>1</td>\n",
              "      <td>0</td>\n",
              "    </tr>\n",
              "  </tbody>\n",
              "</table>\n",
              "</div>"
            ],
            "text/plain": [
              "   x1  x2  y\n",
              "0   0   0  0\n",
              "1   0   1  1\n",
              "2   1   0  1\n",
              "3   1   1  0"
            ]
          },
          "metadata": {
            "tags": []
          },
          "execution_count": 17
        }
      ]
    },
    {
      "cell_type": "code",
      "metadata": {
        "colab": {
          "base_uri": "https://localhost:8080/",
          "height": 172
        },
        "id": "_p-RIn-WNjoq",
        "outputId": "3086563a-72c4-4f8d-fdd0-8622c83453c9"
      },
      "source": [
        "X = XOR.drop(\"y\", axis=1) # axis = 1 >>> dropping accross column\n",
        "X"
      ],
      "execution_count": 18,
      "outputs": [
        {
          "output_type": "execute_result",
          "data": {
            "text/html": [
              "<div>\n",
              "<style scoped>\n",
              "    .dataframe tbody tr th:only-of-type {\n",
              "        vertical-align: middle;\n",
              "    }\n",
              "\n",
              "    .dataframe tbody tr th {\n",
              "        vertical-align: top;\n",
              "    }\n",
              "\n",
              "    .dataframe thead th {\n",
              "        text-align: right;\n",
              "    }\n",
              "</style>\n",
              "<table border=\"1\" class=\"dataframe\">\n",
              "  <thead>\n",
              "    <tr style=\"text-align: right;\">\n",
              "      <th></th>\n",
              "      <th>x1</th>\n",
              "      <th>x2</th>\n",
              "    </tr>\n",
              "  </thead>\n",
              "  <tbody>\n",
              "    <tr>\n",
              "      <th>0</th>\n",
              "      <td>0</td>\n",
              "      <td>0</td>\n",
              "    </tr>\n",
              "    <tr>\n",
              "      <th>1</th>\n",
              "      <td>0</td>\n",
              "      <td>1</td>\n",
              "    </tr>\n",
              "    <tr>\n",
              "      <th>2</th>\n",
              "      <td>1</td>\n",
              "      <td>0</td>\n",
              "    </tr>\n",
              "    <tr>\n",
              "      <th>3</th>\n",
              "      <td>1</td>\n",
              "      <td>1</td>\n",
              "    </tr>\n",
              "  </tbody>\n",
              "</table>\n",
              "</div>"
            ],
            "text/plain": [
              "   x1  x2\n",
              "0   0   0\n",
              "1   0   1\n",
              "2   1   0\n",
              "3   1   1"
            ]
          },
          "metadata": {
            "tags": []
          },
          "execution_count": 18
        }
      ]
    },
    {
      "cell_type": "code",
      "metadata": {
        "colab": {
          "base_uri": "https://localhost:8080/",
          "height": 172
        },
        "id": "HwBlX5UUNtFI",
        "outputId": "1f26247e-9def-4ad2-eff7-dfe1e638cc6a"
      },
      "source": [
        "y = XOR['y']\n",
        "y.to_frame()"
      ],
      "execution_count": 19,
      "outputs": [
        {
          "output_type": "execute_result",
          "data": {
            "text/html": [
              "<div>\n",
              "<style scoped>\n",
              "    .dataframe tbody tr th:only-of-type {\n",
              "        vertical-align: middle;\n",
              "    }\n",
              "\n",
              "    .dataframe tbody tr th {\n",
              "        vertical-align: top;\n",
              "    }\n",
              "\n",
              "    .dataframe thead th {\n",
              "        text-align: right;\n",
              "    }\n",
              "</style>\n",
              "<table border=\"1\" class=\"dataframe\">\n",
              "  <thead>\n",
              "    <tr style=\"text-align: right;\">\n",
              "      <th></th>\n",
              "      <th>y</th>\n",
              "    </tr>\n",
              "  </thead>\n",
              "  <tbody>\n",
              "    <tr>\n",
              "      <th>0</th>\n",
              "      <td>0</td>\n",
              "    </tr>\n",
              "    <tr>\n",
              "      <th>1</th>\n",
              "      <td>1</td>\n",
              "    </tr>\n",
              "    <tr>\n",
              "      <th>2</th>\n",
              "      <td>1</td>\n",
              "    </tr>\n",
              "    <tr>\n",
              "      <th>3</th>\n",
              "      <td>0</td>\n",
              "    </tr>\n",
              "  </tbody>\n",
              "</table>\n",
              "</div>"
            ],
            "text/plain": [
              "   y\n",
              "0  0\n",
              "1  1\n",
              "2  1\n",
              "3  0"
            ]
          },
          "metadata": {
            "tags": []
          },
          "execution_count": 19
        }
      ]
    },
    {
      "cell_type": "code",
      "metadata": {
        "colab": {
          "base_uri": "https://localhost:8080/"
        },
        "id": "sKaYiBspNvrg",
        "outputId": "405e0690-ae21-43ed-e741-bf9ede8145cf"
      },
      "source": [
        "model = Perceptron(eta = 0.5, epochs=50, activationFunction=activationFunction)\n"
      ],
      "execution_count": 20,
      "outputs": [
        {
          "output_type": "stream",
          "text": [
            "self.weights: [-1.27229535e-04  2.23070125e-05  1.44764895e-04]\n"
          ],
          "name": "stdout"
        }
      ]
    },
    {
      "cell_type": "code",
      "metadata": {
        "colab": {
          "base_uri": "https://localhost:8080/"
        },
        "id": "Knr5lbiCN0Uh",
        "outputId": "ef1dc446-0c62-4353-c016-ced182f52bef"
      },
      "source": [
        "model.fit(X,y)"
      ],
      "execution_count": 21,
      "outputs": [
        {
          "output_type": "stream",
          "text": [
            "X_with_bias: \n",
            "[[ 0.  0. -1.]\n",
            " [ 0.  1. -1.]\n",
            " [ 1.  0. -1.]\n",
            " [ 1.  1. -1.]]\n",
            "for epoch: 0\n",
            "predicted value: \n",
            "[0 0 0 0]\n",
            "error: \n",
            "0    0\n",
            "1    1\n",
            "2    1\n",
            "3    0\n",
            "Name: y, dtype: int64\n",
            "updated weights: \n",
            "[ 0.49987277  0.50002231 -0.99985524]\n",
            "#############\n",
            "\n",
            "for epoch: 1\n",
            "predicted value: \n",
            "[1 1 1 1]\n",
            "error: \n",
            "0   -1\n",
            "1    0\n",
            "2    0\n",
            "3   -1\n",
            "Name: y, dtype: int64\n",
            "updated weights: \n",
            "[-1.27229535e-04  2.23070125e-05  1.44764895e-04]\n",
            "#############\n",
            "\n",
            "for epoch: 2\n",
            "predicted value: \n",
            "[0 0 0 0]\n",
            "error: \n",
            "0    0\n",
            "1    1\n",
            "2    1\n",
            "3    0\n",
            "Name: y, dtype: int64\n",
            "updated weights: \n",
            "[ 0.49987277  0.50002231 -0.99985524]\n",
            "#############\n",
            "\n",
            "for epoch: 3\n",
            "predicted value: \n",
            "[1 1 1 1]\n",
            "error: \n",
            "0   -1\n",
            "1    0\n",
            "2    0\n",
            "3   -1\n",
            "Name: y, dtype: int64\n",
            "updated weights: \n",
            "[-1.27229535e-04  2.23070125e-05  1.44764895e-04]\n",
            "#############\n",
            "\n",
            "for epoch: 4\n",
            "predicted value: \n",
            "[0 0 0 0]\n",
            "error: \n",
            "0    0\n",
            "1    1\n",
            "2    1\n",
            "3    0\n",
            "Name: y, dtype: int64\n",
            "updated weights: \n",
            "[ 0.49987277  0.50002231 -0.99985524]\n",
            "#############\n",
            "\n",
            "for epoch: 5\n",
            "predicted value: \n",
            "[1 1 1 1]\n",
            "error: \n",
            "0   -1\n",
            "1    0\n",
            "2    0\n",
            "3   -1\n",
            "Name: y, dtype: int64\n",
            "updated weights: \n",
            "[-1.27229535e-04  2.23070125e-05  1.44764895e-04]\n",
            "#############\n",
            "\n",
            "for epoch: 6\n",
            "predicted value: \n",
            "[0 0 0 0]\n",
            "error: \n",
            "0    0\n",
            "1    1\n",
            "2    1\n",
            "3    0\n",
            "Name: y, dtype: int64\n",
            "updated weights: \n",
            "[ 0.49987277  0.50002231 -0.99985524]\n",
            "#############\n",
            "\n",
            "for epoch: 7\n",
            "predicted value: \n",
            "[1 1 1 1]\n",
            "error: \n",
            "0   -1\n",
            "1    0\n",
            "2    0\n",
            "3   -1\n",
            "Name: y, dtype: int64\n",
            "updated weights: \n",
            "[-1.27229535e-04  2.23070125e-05  1.44764895e-04]\n",
            "#############\n",
            "\n",
            "for epoch: 8\n",
            "predicted value: \n",
            "[0 0 0 0]\n",
            "error: \n",
            "0    0\n",
            "1    1\n",
            "2    1\n",
            "3    0\n",
            "Name: y, dtype: int64\n",
            "updated weights: \n",
            "[ 0.49987277  0.50002231 -0.99985524]\n",
            "#############\n",
            "\n",
            "for epoch: 9\n",
            "predicted value: \n",
            "[1 1 1 1]\n",
            "error: \n",
            "0   -1\n",
            "1    0\n",
            "2    0\n",
            "3   -1\n",
            "Name: y, dtype: int64\n",
            "updated weights: \n",
            "[-1.27229535e-04  2.23070125e-05  1.44764895e-04]\n",
            "#############\n",
            "\n",
            "for epoch: 10\n",
            "predicted value: \n",
            "[0 0 0 0]\n",
            "error: \n",
            "0    0\n",
            "1    1\n",
            "2    1\n",
            "3    0\n",
            "Name: y, dtype: int64\n",
            "updated weights: \n",
            "[ 0.49987277  0.50002231 -0.99985524]\n",
            "#############\n",
            "\n",
            "for epoch: 11\n",
            "predicted value: \n",
            "[1 1 1 1]\n",
            "error: \n",
            "0   -1\n",
            "1    0\n",
            "2    0\n",
            "3   -1\n",
            "Name: y, dtype: int64\n",
            "updated weights: \n",
            "[-1.27229535e-04  2.23070125e-05  1.44764895e-04]\n",
            "#############\n",
            "\n",
            "for epoch: 12\n",
            "predicted value: \n",
            "[0 0 0 0]\n",
            "error: \n",
            "0    0\n",
            "1    1\n",
            "2    1\n",
            "3    0\n",
            "Name: y, dtype: int64\n",
            "updated weights: \n",
            "[ 0.49987277  0.50002231 -0.99985524]\n",
            "#############\n",
            "\n",
            "for epoch: 13\n",
            "predicted value: \n",
            "[1 1 1 1]\n",
            "error: \n",
            "0   -1\n",
            "1    0\n",
            "2    0\n",
            "3   -1\n",
            "Name: y, dtype: int64\n",
            "updated weights: \n",
            "[-1.27229535e-04  2.23070125e-05  1.44764895e-04]\n",
            "#############\n",
            "\n",
            "for epoch: 14\n",
            "predicted value: \n",
            "[0 0 0 0]\n",
            "error: \n",
            "0    0\n",
            "1    1\n",
            "2    1\n",
            "3    0\n",
            "Name: y, dtype: int64\n",
            "updated weights: \n",
            "[ 0.49987277  0.50002231 -0.99985524]\n",
            "#############\n",
            "\n",
            "for epoch: 15\n",
            "predicted value: \n",
            "[1 1 1 1]\n",
            "error: \n",
            "0   -1\n",
            "1    0\n",
            "2    0\n",
            "3   -1\n",
            "Name: y, dtype: int64\n",
            "updated weights: \n",
            "[-1.27229535e-04  2.23070125e-05  1.44764895e-04]\n",
            "#############\n",
            "\n",
            "for epoch: 16\n",
            "predicted value: \n",
            "[0 0 0 0]\n",
            "error: \n",
            "0    0\n",
            "1    1\n",
            "2    1\n",
            "3    0\n",
            "Name: y, dtype: int64\n",
            "updated weights: \n",
            "[ 0.49987277  0.50002231 -0.99985524]\n",
            "#############\n",
            "\n",
            "for epoch: 17\n",
            "predicted value: \n",
            "[1 1 1 1]\n",
            "error: \n",
            "0   -1\n",
            "1    0\n",
            "2    0\n",
            "3   -1\n",
            "Name: y, dtype: int64\n",
            "updated weights: \n",
            "[-1.27229535e-04  2.23070125e-05  1.44764895e-04]\n",
            "#############\n",
            "\n",
            "for epoch: 18\n",
            "predicted value: \n",
            "[0 0 0 0]\n",
            "error: \n",
            "0    0\n",
            "1    1\n",
            "2    1\n",
            "3    0\n",
            "Name: y, dtype: int64\n",
            "updated weights: \n",
            "[ 0.49987277  0.50002231 -0.99985524]\n",
            "#############\n",
            "\n",
            "for epoch: 19\n",
            "predicted value: \n",
            "[1 1 1 1]\n",
            "error: \n",
            "0   -1\n",
            "1    0\n",
            "2    0\n",
            "3   -1\n",
            "Name: y, dtype: int64\n",
            "updated weights: \n",
            "[-1.27229535e-04  2.23070125e-05  1.44764895e-04]\n",
            "#############\n",
            "\n",
            "for epoch: 20\n",
            "predicted value: \n",
            "[0 0 0 0]\n",
            "error: \n",
            "0    0\n",
            "1    1\n",
            "2    1\n",
            "3    0\n",
            "Name: y, dtype: int64\n",
            "updated weights: \n",
            "[ 0.49987277  0.50002231 -0.99985524]\n",
            "#############\n",
            "\n",
            "for epoch: 21\n",
            "predicted value: \n",
            "[1 1 1 1]\n",
            "error: \n",
            "0   -1\n",
            "1    0\n",
            "2    0\n",
            "3   -1\n",
            "Name: y, dtype: int64\n",
            "updated weights: \n",
            "[-1.27229535e-04  2.23070125e-05  1.44764895e-04]\n",
            "#############\n",
            "\n",
            "for epoch: 22\n",
            "predicted value: \n",
            "[0 0 0 0]\n",
            "error: \n",
            "0    0\n",
            "1    1\n",
            "2    1\n",
            "3    0\n",
            "Name: y, dtype: int64\n",
            "updated weights: \n",
            "[ 0.49987277  0.50002231 -0.99985524]\n",
            "#############\n",
            "\n",
            "for epoch: 23\n",
            "predicted value: \n",
            "[1 1 1 1]\n",
            "error: \n",
            "0   -1\n",
            "1    0\n",
            "2    0\n",
            "3   -1\n",
            "Name: y, dtype: int64\n",
            "updated weights: \n",
            "[-1.27229535e-04  2.23070125e-05  1.44764895e-04]\n",
            "#############\n",
            "\n",
            "for epoch: 24\n",
            "predicted value: \n",
            "[0 0 0 0]\n",
            "error: \n",
            "0    0\n",
            "1    1\n",
            "2    1\n",
            "3    0\n",
            "Name: y, dtype: int64\n",
            "updated weights: \n",
            "[ 0.49987277  0.50002231 -0.99985524]\n",
            "#############\n",
            "\n",
            "for epoch: 25\n",
            "predicted value: \n",
            "[1 1 1 1]\n",
            "error: \n",
            "0   -1\n",
            "1    0\n",
            "2    0\n",
            "3   -1\n",
            "Name: y, dtype: int64\n",
            "updated weights: \n",
            "[-1.27229535e-04  2.23070125e-05  1.44764895e-04]\n",
            "#############\n",
            "\n",
            "for epoch: 26\n",
            "predicted value: \n",
            "[0 0 0 0]\n",
            "error: \n",
            "0    0\n",
            "1    1\n",
            "2    1\n",
            "3    0\n",
            "Name: y, dtype: int64\n",
            "updated weights: \n",
            "[ 0.49987277  0.50002231 -0.99985524]\n",
            "#############\n",
            "\n",
            "for epoch: 27\n",
            "predicted value: \n",
            "[1 1 1 1]\n",
            "error: \n",
            "0   -1\n",
            "1    0\n",
            "2    0\n",
            "3   -1\n",
            "Name: y, dtype: int64\n",
            "updated weights: \n",
            "[-1.27229535e-04  2.23070125e-05  1.44764895e-04]\n",
            "#############\n",
            "\n",
            "for epoch: 28\n",
            "predicted value: \n",
            "[0 0 0 0]\n",
            "error: \n",
            "0    0\n",
            "1    1\n",
            "2    1\n",
            "3    0\n",
            "Name: y, dtype: int64\n",
            "updated weights: \n",
            "[ 0.49987277  0.50002231 -0.99985524]\n",
            "#############\n",
            "\n",
            "for epoch: 29\n",
            "predicted value: \n",
            "[1 1 1 1]\n",
            "error: \n",
            "0   -1\n",
            "1    0\n",
            "2    0\n",
            "3   -1\n",
            "Name: y, dtype: int64\n",
            "updated weights: \n",
            "[-1.27229535e-04  2.23070125e-05  1.44764895e-04]\n",
            "#############\n",
            "\n",
            "for epoch: 30\n",
            "predicted value: \n",
            "[0 0 0 0]\n",
            "error: \n",
            "0    0\n",
            "1    1\n",
            "2    1\n",
            "3    0\n",
            "Name: y, dtype: int64\n",
            "updated weights: \n",
            "[ 0.49987277  0.50002231 -0.99985524]\n",
            "#############\n",
            "\n",
            "for epoch: 31\n",
            "predicted value: \n",
            "[1 1 1 1]\n",
            "error: \n",
            "0   -1\n",
            "1    0\n",
            "2    0\n",
            "3   -1\n",
            "Name: y, dtype: int64\n",
            "updated weights: \n",
            "[-1.27229535e-04  2.23070125e-05  1.44764895e-04]\n",
            "#############\n",
            "\n",
            "for epoch: 32\n",
            "predicted value: \n",
            "[0 0 0 0]\n",
            "error: \n",
            "0    0\n",
            "1    1\n",
            "2    1\n",
            "3    0\n",
            "Name: y, dtype: int64\n",
            "updated weights: \n",
            "[ 0.49987277  0.50002231 -0.99985524]\n",
            "#############\n",
            "\n",
            "for epoch: 33\n",
            "predicted value: \n",
            "[1 1 1 1]\n",
            "error: \n",
            "0   -1\n",
            "1    0\n",
            "2    0\n",
            "3   -1\n",
            "Name: y, dtype: int64\n",
            "updated weights: \n",
            "[-1.27229535e-04  2.23070125e-05  1.44764895e-04]\n",
            "#############\n",
            "\n",
            "for epoch: 34\n",
            "predicted value: \n",
            "[0 0 0 0]\n",
            "error: \n",
            "0    0\n",
            "1    1\n",
            "2    1\n",
            "3    0\n",
            "Name: y, dtype: int64\n",
            "updated weights: \n",
            "[ 0.49987277  0.50002231 -0.99985524]\n",
            "#############\n",
            "\n",
            "for epoch: 35\n",
            "predicted value: \n",
            "[1 1 1 1]\n",
            "error: \n",
            "0   -1\n",
            "1    0\n",
            "2    0\n",
            "3   -1\n",
            "Name: y, dtype: int64\n",
            "updated weights: \n",
            "[-1.27229535e-04  2.23070125e-05  1.44764895e-04]\n",
            "#############\n",
            "\n",
            "for epoch: 36\n",
            "predicted value: \n",
            "[0 0 0 0]\n",
            "error: \n",
            "0    0\n",
            "1    1\n",
            "2    1\n",
            "3    0\n",
            "Name: y, dtype: int64\n",
            "updated weights: \n",
            "[ 0.49987277  0.50002231 -0.99985524]\n",
            "#############\n",
            "\n",
            "for epoch: 37\n",
            "predicted value: \n",
            "[1 1 1 1]\n",
            "error: \n",
            "0   -1\n",
            "1    0\n",
            "2    0\n",
            "3   -1\n",
            "Name: y, dtype: int64\n",
            "updated weights: \n",
            "[-1.27229535e-04  2.23070125e-05  1.44764895e-04]\n",
            "#############\n",
            "\n",
            "for epoch: 38\n",
            "predicted value: \n",
            "[0 0 0 0]\n",
            "error: \n",
            "0    0\n",
            "1    1\n",
            "2    1\n",
            "3    0\n",
            "Name: y, dtype: int64\n",
            "updated weights: \n",
            "[ 0.49987277  0.50002231 -0.99985524]\n",
            "#############\n",
            "\n",
            "for epoch: 39\n",
            "predicted value: \n",
            "[1 1 1 1]\n",
            "error: \n",
            "0   -1\n",
            "1    0\n",
            "2    0\n",
            "3   -1\n",
            "Name: y, dtype: int64\n",
            "updated weights: \n",
            "[-1.27229535e-04  2.23070125e-05  1.44764895e-04]\n",
            "#############\n",
            "\n",
            "for epoch: 40\n",
            "predicted value: \n",
            "[0 0 0 0]\n",
            "error: \n",
            "0    0\n",
            "1    1\n",
            "2    1\n",
            "3    0\n",
            "Name: y, dtype: int64\n",
            "updated weights: \n",
            "[ 0.49987277  0.50002231 -0.99985524]\n",
            "#############\n",
            "\n",
            "for epoch: 41\n",
            "predicted value: \n",
            "[1 1 1 1]\n",
            "error: \n",
            "0   -1\n",
            "1    0\n",
            "2    0\n",
            "3   -1\n",
            "Name: y, dtype: int64\n",
            "updated weights: \n",
            "[-1.27229535e-04  2.23070125e-05  1.44764895e-04]\n",
            "#############\n",
            "\n",
            "for epoch: 42\n",
            "predicted value: \n",
            "[0 0 0 0]\n",
            "error: \n",
            "0    0\n",
            "1    1\n",
            "2    1\n",
            "3    0\n",
            "Name: y, dtype: int64\n",
            "updated weights: \n",
            "[ 0.49987277  0.50002231 -0.99985524]\n",
            "#############\n",
            "\n",
            "for epoch: 43\n",
            "predicted value: \n",
            "[1 1 1 1]\n",
            "error: \n",
            "0   -1\n",
            "1    0\n",
            "2    0\n",
            "3   -1\n",
            "Name: y, dtype: int64\n",
            "updated weights: \n",
            "[-1.27229535e-04  2.23070125e-05  1.44764895e-04]\n",
            "#############\n",
            "\n",
            "for epoch: 44\n",
            "predicted value: \n",
            "[0 0 0 0]\n",
            "error: \n",
            "0    0\n",
            "1    1\n",
            "2    1\n",
            "3    0\n",
            "Name: y, dtype: int64\n",
            "updated weights: \n",
            "[ 0.49987277  0.50002231 -0.99985524]\n",
            "#############\n",
            "\n",
            "for epoch: 45\n",
            "predicted value: \n",
            "[1 1 1 1]\n",
            "error: \n",
            "0   -1\n",
            "1    0\n",
            "2    0\n",
            "3   -1\n",
            "Name: y, dtype: int64\n",
            "updated weights: \n",
            "[-1.27229535e-04  2.23070125e-05  1.44764895e-04]\n",
            "#############\n",
            "\n",
            "for epoch: 46\n",
            "predicted value: \n",
            "[0 0 0 0]\n",
            "error: \n",
            "0    0\n",
            "1    1\n",
            "2    1\n",
            "3    0\n",
            "Name: y, dtype: int64\n",
            "updated weights: \n",
            "[ 0.49987277  0.50002231 -0.99985524]\n",
            "#############\n",
            "\n",
            "for epoch: 47\n",
            "predicted value: \n",
            "[1 1 1 1]\n",
            "error: \n",
            "0   -1\n",
            "1    0\n",
            "2    0\n",
            "3   -1\n",
            "Name: y, dtype: int64\n",
            "updated weights: \n",
            "[-1.27229535e-04  2.23070125e-05  1.44764895e-04]\n",
            "#############\n",
            "\n",
            "for epoch: 48\n",
            "predicted value: \n",
            "[0 0 0 0]\n",
            "error: \n",
            "0    0\n",
            "1    1\n",
            "2    1\n",
            "3    0\n",
            "Name: y, dtype: int64\n",
            "updated weights: \n",
            "[ 0.49987277  0.50002231 -0.99985524]\n",
            "#############\n",
            "\n",
            "for epoch: 49\n",
            "predicted value: \n",
            "[1 1 1 1]\n",
            "error: \n",
            "0   -1\n",
            "1    0\n",
            "2    0\n",
            "3   -1\n",
            "Name: y, dtype: int64\n",
            "updated weights: \n",
            "[-1.27229535e-04  2.23070125e-05  1.44764895e-04]\n",
            "#############\n",
            "\n"
          ],
          "name": "stdout"
        }
      ]
    },
    {
      "cell_type": "code",
      "metadata": {
        "colab": {
          "base_uri": "https://localhost:8080/"
        },
        "id": "gH8n2D2jN2Cw",
        "outputId": "8bf0b8e3-a563-4012-b9a5-6d7efafe8893"
      },
      "source": [
        "model.predict(X)"
      ],
      "execution_count": 22,
      "outputs": [
        {
          "output_type": "execute_result",
          "data": {
            "text/plain": [
              "array([0, 0, 0, 0])"
            ]
          },
          "metadata": {
            "tags": []
          },
          "execution_count": 22
        }
      ]
    },
    {
      "cell_type": "markdown",
      "metadata": {
        "id": "s1OpWPmCOLmI"
      },
      "source": [
        "# Analysis with the graph"
      ]
    },
    {
      "cell_type": "markdown",
      "metadata": {
        "id": "b1262PUaOOpe"
      },
      "source": [
        "### AND GATE"
      ]
    },
    {
      "cell_type": "code",
      "metadata": {
        "colab": {
          "base_uri": "https://localhost:8080/",
          "height": 275
        },
        "id": "PZoba_EzOA0Y",
        "outputId": "9d151096-ed15-4d59-e242-aec066f856ce"
      },
      "source": [
        "AND.plot(kind=\"scatter\", x=\"x1\", y=\"x2\", c=\"y\", s=50, cmap=\"winter\")\n",
        "plt.axhline(y=0, color=\"black\", linestyle=\"--\", linewidth=2)\n",
        "plt.axvline(x=0, color=\"black\", linestyle=\"--\", linewidth=2)\n",
        "\n",
        "x = np.linspace(0, 1.4) # >>> 50 \n",
        "y = 1.5 - 1*np.linspace(0, 1.4) # >>> 50 \n",
        "\n",
        "plt.plot(x, y, \"r--\")"
      ],
      "execution_count": 23,
      "outputs": [
        {
          "output_type": "execute_result",
          "data": {
            "text/plain": [
              "[<matplotlib.lines.Line2D at 0x7fc0d98093d0>]"
            ]
          },
          "metadata": {
            "tags": []
          },
          "execution_count": 23
        },
        {
          "output_type": "display_data",
          "data": {
            "image/png": "[encoded data removed]",
            "text/plain": [
              "<Figure size 432x288 with 2 Axes>"
            ]
          },
          "metadata": {
            "tags": [],
            "needs_background": "light"
          }
        }
      ]
    },
    {
      "cell_type": "markdown",
      "metadata": {
        "id": "N3arFfx6PERT"
      },
      "source": [
        "### OR"
      ]
    },
    {
      "cell_type": "code",
      "metadata": {
        "colab": {
          "base_uri": "https://localhost:8080/",
          "height": 258
        },
        "id": "iD0Mxrb8OgBv",
        "outputId": "1c7c7ca3-6143-4d50-b912-e48606a11c94"
      },
      "source": [
        "OR.plot(kind=\"scatter\", x=\"x1\", y=\"x2\", c=\"y\", s=50, cmap=\"winter\")\n",
        "plt.axhline(y = 0, color =\"black\", linestyle =\"--\", linewidth=2)\n",
        "plt.axvline(x = 0, color =\"black\", linestyle =\"--\", linewidth=2)\n",
        "plt.plot(np.linspace(0,0.75), 0.75 - 1*np.linspace(0,0.75), 'r--');"
      ],
      "execution_count": 24,
      "outputs": [
        {
          "output_type": "display_data",
          "data": {
            "image/png": "[encoded data removed]",
            "text/plain": [
              "<Figure size 432x288 with 2 Axes>"
            ]
          },
          "metadata": {
            "tags": [],
            "needs_background": "light"
          }
        }
      ]
    },
    {
      "cell_type": "markdown",
      "metadata": {
        "id": "6IB5KoRJPGMM"
      },
      "source": [
        "# XOR"
      ]
    },
    {
      "cell_type": "code",
      "metadata": {
        "colab": {
          "base_uri": "https://localhost:8080/",
          "height": 275
        },
        "id": "0duP7hGoPBlT",
        "outputId": "1756fe70-9391-4c51-e095-908556c03998"
      },
      "source": [
        "XOR.plot(kind=\"scatter\", x=\"x1\", y=\"x2\", c=\"y\", s=500, cmap=\"winter\")\n"
      ],
      "execution_count": 25,
      "outputs": [
        {
          "output_type": "execute_result",
          "data": {
            "text/plain": [
              "<matplotlib.axes._subplots.AxesSubplot at 0x7fc0d0a68ad0>"
            ]
          },
          "metadata": {
            "tags": []
          },
          "execution_count": 25
        },
        {
          "output_type": "display_data",
          "data": {
            "image/png": "[encoded data removed]",
            "text/plain": [
              "<Figure size 432x288 with 2 Axes>"
            ]
          },
          "metadata": {
            "tags": [],
            "needs_background": "light"
          }
        }
      ]
    },
    {
      "cell_type": "code",
      "metadata": {
        "id": "qbwEV_24PNRA"
      },
      "source": [
        ""
      ],
      "execution_count": null,
      "outputs": []
    }
  ]
}